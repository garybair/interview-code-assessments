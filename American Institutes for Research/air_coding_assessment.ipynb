{
 "cells": [
  {
   "cell_type": "markdown",
   "id": "726b12e0",
   "metadata": {},
   "source": [
    "# Applicant: Gary Bair\n",
    "\n",
    "Date Performed: 02/13/2022\n",
    "\n",
    "### Package Requirements:"
   ]
  },
  {
   "cell_type": "code",
   "execution_count": 32,
   "id": "fdeec33f",
   "metadata": {},
   "outputs": [],
   "source": [
    "import numpy as np\n",
    "import pandas as pd\n",
    "import matplotlib as plt\n",
    "import seaborn as sns\n",
    "import statsmodels.api as sm\n",
    "import re\n",
    "import nltk\n",
    "from nltk.corpus import stopwords"
   ]
  },
  {
   "cell_type": "markdown",
   "id": "446db033",
   "metadata": {},
   "source": [
    "## 1. Regression Modeling\n",
    "\n",
    "For this exercise, we are interested in better understanding the shapes of iris flowers. Specifically, we are interested in whether the petal length and sepal length are related. We will use the “iris” data set which is available in both R and Python (and also attached as a csv, “Iris_Data.csv”) which includes the petal and sepal lengths and widths and the species of iris to which each example belongs."
   ]
  },
  {
   "cell_type": "code",
   "execution_count": 3,
   "id": "13f2e3cd",
   "metadata": {},
   "outputs": [
    {
     "name": "stdout",
     "output_type": "stream",
     "text": [
      "<class 'pandas.core.frame.DataFrame'>\n",
      "RangeIndex: 150 entries, 0 to 149\n",
      "Data columns (total 5 columns):\n",
      " #   Column         Non-Null Count  Dtype  \n",
      "---  ------         --------------  -----  \n",
      " 0   Sepal Length   150 non-null    float64\n",
      " 1   Sepal Width    150 non-null    float64\n",
      " 2    Petal Length  150 non-null    float64\n",
      " 3   Petal Width    150 non-null    float64\n",
      " 4   Labels         150 non-null    int64  \n",
      "dtypes: float64(4), int64(1)\n",
      "memory usage: 6.0 KB\n"
     ]
    }
   ],
   "source": [
    "iris_df = pd.read_csv('Iris_Data.csv')\n",
    "iris_df.info()"
   ]
  },
  {
   "cell_type": "markdown",
   "id": "0f961519",
   "metadata": {},
   "source": [
    "### a)\tHow many irises belong to each species? "
   ]
  },
  {
   "cell_type": "code",
   "execution_count": 4,
   "id": "0ab1c460",
   "metadata": {},
   "outputs": [
    {
     "data": {
      "text/plain": [
       "0    50\n",
       "1    50\n",
       "2    50\n",
       "Name: Labels, dtype: int64"
      ]
     },
     "execution_count": 4,
     "metadata": {},
     "output_type": "execute_result"
    }
   ],
   "source": [
    "iris_df.Labels.value_counts()"
   ]
  },
  {
   "cell_type": "markdown",
   "id": "76758f31",
   "metadata": {},
   "source": [
    "50 records are observed for each species."
   ]
  },
  {
   "cell_type": "markdown",
   "id": "f3b2475b",
   "metadata": {},
   "source": [
    "### b)\tMake a scatterplot of petal length vs sepal length. Color the dots according to species. Document your observations (2-3 sentences)"
   ]
  },
  {
   "cell_type": "code",
   "execution_count": 6,
   "id": "1b86e141",
   "metadata": {},
   "outputs": [
    {
     "data": {
      "text/plain": [
       "<AxesSubplot:xlabel=' Petal Length', ylabel='Sepal Length'>"
      ]
     },
     "execution_count": 6,
     "metadata": {},
     "output_type": "execute_result"
    },
    {
     "data": {
      "image/png": "[encoded data removed]",
      "text/plain": [
       "<Figure size 432x288 with 1 Axes>"
      ]
     },
     "metadata": {
      "needs_background": "light"
     },
     "output_type": "display_data"
    }
   ],
   "source": [
    "sns.scatterplot(data = iris_df, \n",
    "                x = ' Petal Length', \n",
    "                y = 'Sepal Length', \n",
    "                hue = 'Labels')"
   ]
  },
  {
   "cell_type": "markdown",
   "id": "a8d43c41",
   "metadata": {},
   "source": [
    "Two distinct clusters can be observed in the scatterplot. The larger cluster appears to note a positive linear relationship between petal length and sepal length and the second smaller cluster may not observe the same degree of relation.\n",
    "\n",
    "### c)\tFit a regression model predicting sepal length based on petal length, petal width and sepal width (you do not need to test any of the regression assumptions). "
   ]
  },
  {
   "cell_type": "code",
   "execution_count": 9,
   "id": "ab2095f9",
   "metadata": {},
   "outputs": [
    {
     "name": "stdout",
     "output_type": "stream",
     "text": [
      "                            OLS Regression Results                            \n",
      "==============================================================================\n",
      "Dep. Variable:           Sepal Length   R-squared:                       0.859\n",
      "Model:                            OLS   Adj. R-squared:                  0.856\n",
      "Method:                 Least Squares   F-statistic:                     297.0\n",
      "Date:                Sat, 12 Feb 2022   Prob (F-statistic):           6.28e-62\n",
      "Time:                        22:01:22   Log-Likelihood:                -37.000\n",
      "No. Observations:                 150   AIC:                             82.00\n",
      "Df Residuals:                     146   BIC:                             94.04\n",
      "Df Model:                           3                                         \n",
      "Covariance Type:            nonrobust                                         \n",
      "=================================================================================\n",
      "                    coef    std err          t      P>|t|      [0.025      0.975]\n",
      "---------------------------------------------------------------------------------\n",
      "const             1.8451      0.250      7.368      0.000       1.350       2.340\n",
      " Petal Length     0.7111      0.057     12.560      0.000       0.599       0.823\n",
      "Petal Width      -0.5626      0.127     -4.426      0.000      -0.814      -0.311\n",
      "Sepal Width       0.6549      0.067      9.823      0.000       0.523       0.787\n",
      "==============================================================================\n",
      "Omnibus:                        0.265   Durbin-Watson:                   2.053\n",
      "Prob(Omnibus):                  0.876   Jarque-Bera (JB):                0.432\n",
      "Skew:                           0.003   Prob(JB):                        0.806\n",
      "Kurtosis:                       2.737   Cond. No.                         54.7\n",
      "==============================================================================\n",
      "\n",
      "Notes:\n",
      "[1] Standard Errors assume that the covariance matrix of the errors is correctly specified.\n"
     ]
    }
   ],
   "source": [
    "X = iris_df[[' Petal Length', 'Petal Width', 'Sepal Width']]\n",
    "X = sm.add_constant(X)\n",
    "\n",
    "y = iris_df['Sepal Length']\n",
    "\n",
    "mod = sm.OLS(y, X)\n",
    "res = mod.fit()\n",
    "print(res.summary())"
   ]
  },
  {
   "cell_type": "markdown",
   "id": "a436caf9",
   "metadata": {},
   "source": [
    "### d)\tDescribe the results of your regression, focusing on the relationship between sepal length and petal length.\n",
    "\n",
    "The regression summary indicates that each predictor in the analysis is statistically significant. If we are to focus on the relationship between sepal length and petal length, our regression predicts that for each unit increase in petal length is predicted to yield an increase in sepal length of .7111.\n",
    "\n",
    "### e)\tExtra Credit: Fit a regression model predicting sepal length based on petal length, petal width, sepal width and species (you do not need to test for any of the “classical” regression assumptions).  This is the same as part c but also with species as a predictor. Describe the results."
   ]
  },
  {
   "cell_type": "code",
   "execution_count": 13,
   "id": "89111f93",
   "metadata": {},
   "outputs": [
    {
     "name": "stdout",
     "output_type": "stream",
     "text": [
      "                            OLS Regression Results                            \n",
      "==============================================================================\n",
      "Dep. Variable:           Sepal Length   R-squared:                       0.868\n",
      "Model:                            OLS   Adj. R-squared:                  0.863\n",
      "Method:                 Least Squares   F-statistic:                     188.8\n",
      "Date:                Sat, 12 Feb 2022   Prob (F-statistic):           2.22e-61\n",
      "Time:                        22:47:26   Log-Likelihood:                -32.367\n",
      "No. Observations:                 150   AIC:                             76.73\n",
      "Df Residuals:                     144   BIC:                             94.80\n",
      "Df Model:                           5                                         \n",
      "Covariance Type:            nonrobust                                         \n",
      "=================================================================================\n",
      "                    coef    std err          t      P>|t|      [0.025      0.975]\n",
      "---------------------------------------------------------------------------------\n",
      "const             2.1586      0.279      7.726      0.000       1.606       2.711\n",
      " Petal Length     0.8288      0.068     12.136      0.000       0.694       0.964\n",
      "Petal Width      -0.3221      0.151     -2.129      0.035      -0.621      -0.023\n",
      "Sepal Width       0.5011      0.086      5.816      0.000       0.331       0.671\n",
      "1                -0.7141      0.240     -2.974      0.003      -1.189      -0.239\n",
      "2                -1.0096      0.334     -3.022      0.003      -1.670      -0.349\n",
      "==============================================================================\n",
      "Omnibus:                        0.398   Durbin-Watson:                   1.962\n",
      "Prob(Omnibus):                  0.820   Jarque-Bera (JB):                0.554\n",
      "Skew:                          -0.064   Prob(JB):                        0.758\n",
      "Kurtosis:                       2.732   Cond. No.                         94.2\n",
      "==============================================================================\n",
      "\n",
      "Notes:\n",
      "[1] Standard Errors assume that the covariance matrix of the errors is correctly specified.\n"
     ]
    }
   ],
   "source": [
    "X = iris_df[[' Petal Length', 'Petal Width', 'Sepal Width']]\n",
    "\n",
    "species_dummies = pd.get_dummies(iris_df['Labels'], drop_first = True)\n",
    "\n",
    "X = pd.concat([X, species_dummies], axis = 1)\n",
    "X = sm.add_constant(X)\n",
    "\n",
    "y = iris_df['Sepal Length']\n",
    "\n",
    "mod = sm.OLS(y, X)\n",
    "res = mod.fit()\n",
    "print(res.summary())"
   ]
  },
  {
   "attachments": {
    "image.png": {
     "image/png": "[encoded data removed]"
    }
   },
   "cell_type": "markdown",
   "id": "9438976d",
   "metadata": {},
   "source": [
    "Adding species technically increases the performance of the model as denoted in the adjusted R-squared however the increase is so minimal that it may not generalize well.\n",
    "\n",
    "## 2. Implementing an Edit-Distance Algorithm\n",
    "\n",
    "Write a program to calculate a variant of the Hamming distance with two key modifications to the standard algorithm. In information theory, the Hamming distance is a measure of the distance between two text strings. This is calculated by adding one to the Hamming distance for each character that is different between the two strings. For example, “kitten\" and “mitten\" have a Hamming distance of 1. See https://en.wikipedia.org/wiki/Hamming_distance for more information. \n",
    "Modifications to the standard Hamming distance algorithm for the purposes of this exercise include:\n",
    "\n",
    "1. Add .5 to the Hamming distance if a capital letter is switched for a lower case letter unless it is in the first position.  \n",
    "    Examples include: \n",
    "    - \"Kitten\" and \"kitten\" have a distance of 0 \n",
    "    - \"kitten\" and \"KiTten\" have a Hamming distance of .5.\n",
    "    - \"Puppy\" and \"POppy\" have a distance of 1.5 (1 for the different letter, additional .5 for the different capitalization). \n",
    "\n",
    "\n",
    "2. Consider S and Z (and s and z) to be the same letter. For example, \"analyze\" has a distance of 0 from \"analyse\".\n",
    "\n",
    "\n",
    "Test cases with expected outputs:\n",
    "\n",
    "![image.png](attachment:image.png)"
   ]
  },
  {
   "cell_type": "code",
   "execution_count": 16,
   "id": "43f1f07c",
   "metadata": {},
   "outputs": [],
   "source": [
    "def adj_hamming_distance(string1, string2): \n",
    "    distance = 0\n",
    "    ### Algorthim assumes strings are same length\n",
    "    string_len = len(string1)\n",
    "    for i in range(string_len):\n",
    "        ### Testing for correct character\n",
    "        if string1[i].lower() == 's' and string2[i].lower() == 'z':\n",
    "            pass ### special case that does not increase Hamming score\n",
    "        elif string1[i].lower() == 'z' and string2[i].lower() == 's':\n",
    "            pass ### special case that does not increase Hamming score\n",
    "        elif string1[i].lower() != string2[i].lower():\n",
    "            distance += 1\n",
    "        else:\n",
    "            pass\n",
    "        ### Testing for correct capitalization\n",
    "        if i == 0:\n",
    "            pass ### special case that does not increase Hamming score\n",
    "        elif string1[i] == string1[i].lower() and string2[i] == string2[i].lower():\n",
    "            pass ### cases are the same - lower\n",
    "        elif string1[i] == string1[i].upper() and string2[i] == string2[i].upper():\n",
    "            pass ### cases are the same - upper\n",
    "        else:\n",
    "            distance += .5    \n",
    "    return distance"
   ]
  },
  {
   "cell_type": "markdown",
   "id": "71841323",
   "metadata": {},
   "source": [
    "Use the program you wrote to score the following strings:\n",
    "\n",
    "### a)\t\"data Science\" to \"Data Sciency\""
   ]
  },
  {
   "cell_type": "code",
   "execution_count": 17,
   "id": "cfcd690c",
   "metadata": {},
   "outputs": [
    {
     "data": {
      "text/plain": [
       "1"
      ]
     },
     "execution_count": 17,
     "metadata": {},
     "output_type": "execute_result"
    }
   ],
   "source": [
    "adj_hamming_distance(\"data Science\", \"Data Sciency\")"
   ]
  },
  {
   "cell_type": "markdown",
   "id": "a2f79bc7",
   "metadata": {},
   "source": [
    "### b)\t\"organizing\" to \"orGanising\""
   ]
  },
  {
   "cell_type": "code",
   "execution_count": 18,
   "id": "63928c0b",
   "metadata": {},
   "outputs": [
    {
     "data": {
      "text/plain": [
       "0.5"
      ]
     },
     "execution_count": 18,
     "metadata": {},
     "output_type": "execute_result"
    }
   ],
   "source": [
    "adj_hamming_distance(\"organizing\", \"orGanising\")"
   ]
  },
  {
   "cell_type": "markdown",
   "id": "87a13434",
   "metadata": {},
   "source": [
    "### c)\t\"AGPRklafsdyweIllIIgEnXuTggzF\" to \"AgpRkliFZdiweIllIIgENXUTygSF\")"
   ]
  },
  {
   "cell_type": "code",
   "execution_count": 19,
   "id": "ea743a64",
   "metadata": {},
   "outputs": [
    {
     "data": {
      "text/plain": [
       "6.5"
      ]
     },
     "execution_count": 19,
     "metadata": {},
     "output_type": "execute_result"
    }
   ],
   "source": [
    "adj_hamming_distance(\"AGPRklafsdyweIllIIgEnXuTggzF\", \"AgpRkliFZdiweIllIIgENXUTygSF\")"
   ]
  },
  {
   "cell_type": "markdown",
   "id": "c188ba3c",
   "metadata": {},
   "source": [
    "Then:\n",
    "### a)\tDescribe a scenario (3-4 sentences) where implementing the standard Hamming distance algorithm would be applicable. \n",
    "\n",
    "Given that Hamming distance is computed to determine the similiarity of two equal length strings, the standard algorthim is commonly used for error detection and correction of data tranmistted over computer networks. This solution only works as the code transmitted is binary and does not have potential for miscapialziaztions or characters beside '0' and '1'."
   ]
  },
  {
   "cell_type": "markdown",
   "id": "c82f9692",
   "metadata": {},
   "source": [
    "## 3. Data Cleaning\n",
    "\n",
    "Perform some data cleaning using the provided file, “patent_drawing.csv”. “Patent_drawing.csv” contains a list of patents and a short description of each drawing included with a patent grant. For example, patent number 0233365 (https://patents.google.com/patent/US20030233365A1/en) has 16 images. For each image, there is a brief description of the drawings. The description is included in the “text” field in patent_drawing.csv."
   ]
  },
  {
   "cell_type": "code",
   "execution_count": 56,
   "id": "2e6817c7",
   "metadata": {},
   "outputs": [
    {
     "name": "stdout",
     "output_type": "stream",
     "text": [
      "<class 'pandas.core.frame.DataFrame'>\n",
      "RangeIndex: 8156 entries, 0 to 8155\n",
      "Data columns (total 3 columns):\n",
      " #   Column     Non-Null Count  Dtype \n",
      "---  ------     --------------  ----- \n",
      " 0   uuid       8156 non-null   object\n",
      " 1   patent_id  8156 non-null   object\n",
      " 2   text       8156 non-null   object\n",
      "dtypes: object(3)\n",
      "memory usage: 191.3+ KB\n"
     ]
    }
   ],
   "source": [
    "patent_df = pd.read_csv('patent_drawing data.csv')\n",
    "patent_df.info()"
   ]
  },
  {
   "cell_type": "code",
   "execution_count": 57,
   "id": "48fc89ef",
   "metadata": {},
   "outputs": [
    {
     "data": {
      "text/html": [
       "<div>\n",
       "<style scoped>\n",
       "    .dataframe tbody tr th:only-of-type {\n",
       "        vertical-align: middle;\n",
       "    }\n",
       "\n",
       "    .dataframe tbody tr th {\n",
       "        vertical-align: top;\n",
       "    }\n",
       "\n",
       "    .dataframe thead th {\n",
       "        text-align: right;\n",
       "    }\n",
       "</style>\n",
       "<table border=\"1\" class=\"dataframe\">\n",
       "  <thead>\n",
       "    <tr style=\"text-align: right;\">\n",
       "      <th></th>\n",
       "      <th>uuid</th>\n",
       "      <th>patent_id</th>\n",
       "      <th>text</th>\n",
       "    </tr>\n",
       "  </thead>\n",
       "  <tbody>\n",
       "    <tr>\n",
       "      <th>0</th>\n",
       "      <td>urfl2ulyjgez01g5selfflnz7</td>\n",
       "      <td>4491930</td>\n",
       "      <td>A better understanding of the invention may be...</td>\n",
       "    </tr>\n",
       "    <tr>\n",
       "      <th>1</th>\n",
       "      <td>nqdxwthotlcted3d961ao373x</td>\n",
       "      <td>4490979</td>\n",
       "      <td>A better understanding of the invention will b...</td>\n",
       "    </tr>\n",
       "    <tr>\n",
       "      <th>2</th>\n",
       "      <td>9mwinm7as0p0j3245tdxhfuiz</td>\n",
       "      <td>4491969</td>\n",
       "      <td>A better understanding of the invention will b...</td>\n",
       "    </tr>\n",
       "    <tr>\n",
       "      <th>3</th>\n",
       "      <td>l1n6w0ofqic6yow2t7qwmvqry</td>\n",
       "      <td>4490948</td>\n",
       "      <td>A better understanding of the present inventio...</td>\n",
       "    </tr>\n",
       "    <tr>\n",
       "      <th>4</th>\n",
       "      <td>86bndneq4omf3mfxi60dzr5mx</td>\n",
       "      <td>4491426</td>\n",
       "      <td>A better understanding of the present inventio...</td>\n",
       "    </tr>\n",
       "  </tbody>\n",
       "</table>\n",
       "</div>"
      ],
      "text/plain": [
       "                        uuid patent_id  \\\n",
       "0  urfl2ulyjgez01g5selfflnz7   4491930   \n",
       "1  nqdxwthotlcted3d961ao373x   4490979   \n",
       "2  9mwinm7as0p0j3245tdxhfuiz   4491969   \n",
       "3  l1n6w0ofqic6yow2t7qwmvqry   4490948   \n",
       "4  86bndneq4omf3mfxi60dzr5mx   4491426   \n",
       "\n",
       "                                                text  \n",
       "0  A better understanding of the invention may be...  \n",
       "1  A better understanding of the invention will b...  \n",
       "2  A better understanding of the invention will b...  \n",
       "3  A better understanding of the present inventio...  \n",
       "4  A better understanding of the present inventio...  "
      ]
     },
     "execution_count": 57,
     "metadata": {},
     "output_type": "execute_result"
    }
   ],
   "source": [
    "patent_df.head()"
   ]
  },
  {
   "cell_type": "code",
   "execution_count": 70,
   "id": "bf4104d9",
   "metadata": {},
   "outputs": [],
   "source": [
    "def clean_text(text): \n",
    "    return re.sub(\"(@[A-Za-z0-9]+)|([^0-9A-Za-z \\t])|(\\w+:\\/\\/\\S+)\", \" \", text).split()\n",
    "\n",
    "def join_text(text_list): \n",
    "    return ' '.join(text_list)"
   ]
  },
  {
   "cell_type": "code",
   "execution_count": 71,
   "id": "8c8cd840",
   "metadata": {},
   "outputs": [],
   "source": [
    "stop = stopwords.words('english')"
   ]
  },
  {
   "cell_type": "code",
   "execution_count": 72,
   "id": "57367aa0",
   "metadata": {},
   "outputs": [],
   "source": [
    "patent_df['clean_text'] = patent_df['text'].str.lower()\n",
    "patent_df['clean_text'] = patent_df['clean_text'].map(clean_text)\n",
    "patent_df['clean_text'] = patent_df['clean_text'].apply(lambda x: [word for word in x if word not in (stop)])\n",
    "patent_df['clean_text'] = patent_df['clean_text'].map(join_text)"
   ]
  },
  {
   "cell_type": "code",
   "execution_count": 73,
   "id": "7ce131d8",
   "metadata": {},
   "outputs": [
    {
     "data": {
      "text/html": [
       "<div>\n",
       "<style scoped>\n",
       "    .dataframe tbody tr th:only-of-type {\n",
       "        vertical-align: middle;\n",
       "    }\n",
       "\n",
       "    .dataframe tbody tr th {\n",
       "        vertical-align: top;\n",
       "    }\n",
       "\n",
       "    .dataframe thead th {\n",
       "        text-align: right;\n",
       "    }\n",
       "</style>\n",
       "<table border=\"1\" class=\"dataframe\">\n",
       "  <thead>\n",
       "    <tr style=\"text-align: right;\">\n",
       "      <th></th>\n",
       "      <th>uuid</th>\n",
       "      <th>patent_id</th>\n",
       "      <th>text</th>\n",
       "      <th>clean_text</th>\n",
       "    </tr>\n",
       "  </thead>\n",
       "  <tbody>\n",
       "    <tr>\n",
       "      <th>0</th>\n",
       "      <td>urfl2ulyjgez01g5selfflnz7</td>\n",
       "      <td>4491930</td>\n",
       "      <td>A better understanding of the invention may be...</td>\n",
       "      <td>better understanding invention may obtained co...</td>\n",
       "    </tr>\n",
       "    <tr>\n",
       "      <th>1</th>\n",
       "      <td>nqdxwthotlcted3d961ao373x</td>\n",
       "      <td>4490979</td>\n",
       "      <td>A better understanding of the invention will b...</td>\n",
       "      <td>better understanding invention following detai...</td>\n",
       "    </tr>\n",
       "    <tr>\n",
       "      <th>2</th>\n",
       "      <td>9mwinm7as0p0j3245tdxhfuiz</td>\n",
       "      <td>4491969</td>\n",
       "      <td>A better understanding of the invention will b...</td>\n",
       "      <td>better understanding invention obtained follow...</td>\n",
       "    </tr>\n",
       "    <tr>\n",
       "      <th>3</th>\n",
       "      <td>l1n6w0ofqic6yow2t7qwmvqry</td>\n",
       "      <td>4490948</td>\n",
       "      <td>A better understanding of the present inventio...</td>\n",
       "      <td>better understanding present invention many ad...</td>\n",
       "    </tr>\n",
       "    <tr>\n",
       "      <th>4</th>\n",
       "      <td>86bndneq4omf3mfxi60dzr5mx</td>\n",
       "      <td>4491426</td>\n",
       "      <td>A better understanding of the present inventio...</td>\n",
       "      <td>better understanding present invention well ob...</td>\n",
       "    </tr>\n",
       "  </tbody>\n",
       "</table>\n",
       "</div>"
      ],
      "text/plain": [
       "                        uuid patent_id  \\\n",
       "0  urfl2ulyjgez01g5selfflnz7   4491930   \n",
       "1  nqdxwthotlcted3d961ao373x   4490979   \n",
       "2  9mwinm7as0p0j3245tdxhfuiz   4491969   \n",
       "3  l1n6w0ofqic6yow2t7qwmvqry   4490948   \n",
       "4  86bndneq4omf3mfxi60dzr5mx   4491426   \n",
       "\n",
       "                                                text  \\\n",
       "0  A better understanding of the invention may be...   \n",
       "1  A better understanding of the invention will b...   \n",
       "2  A better understanding of the invention will b...   \n",
       "3  A better understanding of the present inventio...   \n",
       "4  A better understanding of the present inventio...   \n",
       "\n",
       "                                          clean_text  \n",
       "0  better understanding invention may obtained co...  \n",
       "1  better understanding invention following detai...  \n",
       "2  better understanding invention obtained follow...  \n",
       "3  better understanding present invention many ad...  \n",
       "4  better understanding present invention well ob...  "
      ]
     },
     "execution_count": 73,
     "metadata": {},
     "output_type": "execute_result"
    }
   ],
   "source": [
    "patent_df.head()"
   ]
  },
  {
   "cell_type": "markdown",
   "id": "39dcf280",
   "metadata": {},
   "source": [
    "### a)\tHow many of the field descriptions reference a perspective that is not standard (i.e. viewed from the top, bottom, front or rear)? Specifically, write code to count how many of the rows have the words \"view\" or \"perspective\" but do not include \"bottom\", \"top\", \"front\" or \"rear\" in  the text field?"
   ]
  },
  {
   "cell_type": "code",
   "execution_count": 103,
   "id": "e4697238",
   "metadata": {
    "scrolled": true
   },
   "outputs": [
    {
     "data": {
      "text/html": [
       "<div>\n",
       "<style scoped>\n",
       "    .dataframe tbody tr th:only-of-type {\n",
       "        vertical-align: middle;\n",
       "    }\n",
       "\n",
       "    .dataframe tbody tr th {\n",
       "        vertical-align: top;\n",
       "    }\n",
       "\n",
       "    .dataframe thead th {\n",
       "        text-align: right;\n",
       "    }\n",
       "</style>\n",
       "<table border=\"1\" class=\"dataframe\">\n",
       "  <thead>\n",
       "    <tr style=\"text-align: right;\">\n",
       "      <th></th>\n",
       "      <th>uuid</th>\n",
       "      <th>patent_id</th>\n",
       "      <th>text</th>\n",
       "      <th>clean_text</th>\n",
       "      <th>contains_search_term</th>\n",
       "      <th>contains_exclusion_term</th>\n",
       "    </tr>\n",
       "  </thead>\n",
       "  <tbody>\n",
       "    <tr>\n",
       "      <th>0</th>\n",
       "      <td>urfl2ulyjgez01g5selfflnz7</td>\n",
       "      <td>4491930</td>\n",
       "      <td>A better understanding of the invention may be...</td>\n",
       "      <td>better understanding invention may obtained co...</td>\n",
       "      <td>False</td>\n",
       "      <td>False</td>\n",
       "    </tr>\n",
       "    <tr>\n",
       "      <th>1</th>\n",
       "      <td>nqdxwthotlcted3d961ao373x</td>\n",
       "      <td>4490979</td>\n",
       "      <td>A better understanding of the invention will b...</td>\n",
       "      <td>better understanding invention following detai...</td>\n",
       "      <td>False</td>\n",
       "      <td>False</td>\n",
       "    </tr>\n",
       "    <tr>\n",
       "      <th>2</th>\n",
       "      <td>9mwinm7as0p0j3245tdxhfuiz</td>\n",
       "      <td>4491969</td>\n",
       "      <td>A better understanding of the invention will b...</td>\n",
       "      <td>better understanding invention obtained follow...</td>\n",
       "      <td>False</td>\n",
       "      <td>False</td>\n",
       "    </tr>\n",
       "    <tr>\n",
       "      <th>3</th>\n",
       "      <td>l1n6w0ofqic6yow2t7qwmvqry</td>\n",
       "      <td>4490948</td>\n",
       "      <td>A better understanding of the present inventio...</td>\n",
       "      <td>better understanding present invention many ad...</td>\n",
       "      <td>False</td>\n",
       "      <td>False</td>\n",
       "    </tr>\n",
       "    <tr>\n",
       "      <th>4</th>\n",
       "      <td>86bndneq4omf3mfxi60dzr5mx</td>\n",
       "      <td>4491426</td>\n",
       "      <td>A better understanding of the present inventio...</td>\n",
       "      <td>better understanding present invention well ob...</td>\n",
       "      <td>False</td>\n",
       "      <td>False</td>\n",
       "    </tr>\n",
       "  </tbody>\n",
       "</table>\n",
       "</div>"
      ],
      "text/plain": [
       "                        uuid patent_id  \\\n",
       "0  urfl2ulyjgez01g5selfflnz7   4491930   \n",
       "1  nqdxwthotlcted3d961ao373x   4490979   \n",
       "2  9mwinm7as0p0j3245tdxhfuiz   4491969   \n",
       "3  l1n6w0ofqic6yow2t7qwmvqry   4490948   \n",
       "4  86bndneq4omf3mfxi60dzr5mx   4491426   \n",
       "\n",
       "                                                text  \\\n",
       "0  A better understanding of the invention may be...   \n",
       "1  A better understanding of the invention will b...   \n",
       "2  A better understanding of the invention will b...   \n",
       "3  A better understanding of the present inventio...   \n",
       "4  A better understanding of the present inventio...   \n",
       "\n",
       "                                          clean_text  contains_search_term  \\\n",
       "0  better understanding invention may obtained co...                 False   \n",
       "1  better understanding invention following detai...                 False   \n",
       "2  better understanding invention obtained follow...                 False   \n",
       "3  better understanding present invention many ad...                 False   \n",
       "4  better understanding present invention well ob...                 False   \n",
       "\n",
       "   contains_exclusion_term  \n",
       "0                    False  \n",
       "1                    False  \n",
       "2                    False  \n",
       "3                    False  \n",
       "4                    False  "
      ]
     },
     "execution_count": 103,
     "metadata": {},
     "output_type": "execute_result"
    }
   ],
   "source": [
    "patent_df['contains_search_term'] = patent_df['clean_text'].str.contains( \"view|perspective\")\n",
    "patent_df['contains_exclusion_term'] = patent_df['clean_text'].str.contains(\"bottom|top|front|rear\")\n",
    "patent_df.head()"
   ]
  },
  {
   "cell_type": "code",
   "execution_count": 122,
   "id": "dc3a4036",
   "metadata": {},
   "outputs": [
    {
     "data": {
      "text/plain": [
       "uuid                       3665\n",
       "patent_id                  3665\n",
       "text                       3665\n",
       "clean_text                 3665\n",
       "contains_search_term       3665\n",
       "contains_exclusion_term    3665\n",
       "dtype: int64"
      ]
     },
     "execution_count": 122,
     "metadata": {},
     "output_type": "execute_result"
    }
   ],
   "source": [
    "patent_df[(patent_df['contains_search_term'] == True) & (patent_df['contains_exclusion_term'] == False)].count()"
   ]
  },
  {
   "cell_type": "markdown",
   "id": "1ec18e10",
   "metadata": {},
   "source": [
    "There appears to be 3665 descriptions containing nonstandard views."
   ]
  },
  {
   "cell_type": "markdown",
   "id": "9beffa0d",
   "metadata": {},
   "source": [
    "### b)\tWhat is the average number of drawing descriptions per patent? "
   ]
  },
  {
   "cell_type": "code",
   "execution_count": 115,
   "id": "5f7d768e",
   "metadata": {},
   "outputs": [
    {
     "data": {
      "text/plain": [
       "uuid                       7.441606\n",
       "text                       7.441606\n",
       "clean_text                 7.441606\n",
       "contains_search_term       7.441606\n",
       "contains_exclusion_term    7.441606\n",
       "dtype: float64"
      ]
     },
     "execution_count": 115,
     "metadata": {},
     "output_type": "execute_result"
    }
   ],
   "source": [
    "patent_df.groupby(['patent_id']).count().mean()"
   ]
  },
  {
   "cell_type": "markdown",
   "id": "dde24ed6",
   "metadata": {},
   "source": [
    "The average number of drawing descriptions per patent is 7.4416"
   ]
  },
  {
   "cell_type": "code",
   "execution_count": null,
   "id": "688b27eb",
   "metadata": {},
   "outputs": [],
   "source": []
  }
 ],
 "metadata": {
  "kernelspec": {
   "display_name": "Python 3",
   "language": "python",
   "name": "python3"
  },
  "language_info": {
   "codemirror_mode": {
    "name": "ipython",
    "version": 3
   },
   "file_extension": ".py",
   "mimetype": "text/x-python",
   "name": "python",
   "nbconvert_exporter": "python",
   "pygments_lexer": "ipython3",
   "version": "3.8.8"
  }
 },
 "nbformat": 4,
 "nbformat_minor": 5
}
